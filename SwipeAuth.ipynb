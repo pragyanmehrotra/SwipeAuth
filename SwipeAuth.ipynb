{
  "nbformat": 4,
  "nbformat_minor": 0,
  "metadata": {
    "colab": {
      "name": "SwipeAuth.ipynb",
      "provenance": [],
      "collapsed_sections": [
        "qSojvy025-II"
      ],
      "toc_visible": true
    },
    "kernelspec": {
      "name": "python3",
      "display_name": "Python 3"
    }
  },
  "cells": [
    {
      "cell_type": "markdown",
      "metadata": {
        "id": "qSojvy025-II"
      },
      "source": [
        "# **Starter**"
      ]
    },
    {
      "cell_type": "code",
      "metadata": {
        "colab": {
          "base_uri": "https://localhost:8080/"
        },
        "id": "SPo8veBIb8Pu",
        "outputId": "44fef366-ad78-4e6c-c26b-38ea367f72bd"
      },
      "source": [
        "cd /content/drive/MyDrive/TACS/hmog/public_dataset/"
      ],
      "execution_count": 1,
      "outputs": [
        {
          "output_type": "stream",
          "text": [
            "[Errno 2] No such file or directory: '/content/drive/MyDrive/TACS/hmog/public_dataset/'\n",
            "/content\n"
          ],
          "name": "stdout"
        }
      ]
    },
    {
      "cell_type": "markdown",
      "metadata": {
        "id": "UgNaiPd7KV8J"
      },
      "source": [
        "# **Imports**"
      ]
    },
    {
      "cell_type": "code",
      "metadata": {
        "colab": {
          "base_uri": "https://localhost:8080/"
        },
        "id": "NYo08FLCageU",
        "outputId": "e0bc1f7c-405a-436b-b089-f794ce661c5f"
      },
      "source": [
        "!pip install pyeer"
      ],
      "execution_count": null,
      "outputs": [
        {
          "output_type": "stream",
          "text": [
            "Collecting pyeer\n",
            "\u001b[?25l  Downloading https://files.pythonhosted.org/packages/ac/35/5b789862e1d7d053bc40e10df367caa9ac766d7094b5e4f7a8fa6b8b05ca/pyeer-0.5.4.tar.gz (604kB)\n",
            "\r\u001b[K     |▌                               | 10kB 16.2MB/s eta 0:00:01\r\u001b[K     |█                               | 20kB 20.5MB/s eta 0:00:01\r\u001b[K     |█▋                              | 30kB 12.4MB/s eta 0:00:01\r\u001b[K     |██▏                             | 40kB 9.1MB/s eta 0:00:01\r\u001b[K     |██▊                             | 51kB 4.3MB/s eta 0:00:01\r\u001b[K     |███▎                            | 61kB 4.5MB/s eta 0:00:01\r\u001b[K     |███▉                            | 71kB 5.0MB/s eta 0:00:01\r\u001b[K     |████▍                           | 81kB 5.4MB/s eta 0:00:01\r\u001b[K     |████▉                           | 92kB 5.4MB/s eta 0:00:01\r\u001b[K     |█████▍                          | 102kB 5.7MB/s eta 0:00:01\r\u001b[K     |██████                          | 112kB 5.7MB/s eta 0:00:01\r\u001b[K     |██████▌                         | 122kB 5.7MB/s eta 0:00:01\r\u001b[K     |███████                         | 133kB 5.7MB/s eta 0:00:01\r\u001b[K     |███████▋                        | 143kB 5.7MB/s eta 0:00:01\r\u001b[K     |████████▏                       | 153kB 5.7MB/s eta 0:00:01\r\u001b[K     |████████▊                       | 163kB 5.7MB/s eta 0:00:01\r\u001b[K     |█████████▏                      | 174kB 5.7MB/s eta 0:00:01\r\u001b[K     |█████████▊                      | 184kB 5.7MB/s eta 0:00:01\r\u001b[K     |██████████▎                     | 194kB 5.7MB/s eta 0:00:01\r\u001b[K     |██████████▉                     | 204kB 5.7MB/s eta 0:00:01\r\u001b[K     |███████████▍                    | 215kB 5.7MB/s eta 0:00:01\r\u001b[K     |████████████                    | 225kB 5.7MB/s eta 0:00:01\r\u001b[K     |████████████▌                   | 235kB 5.7MB/s eta 0:00:01\r\u001b[K     |█████████████                   | 245kB 5.7MB/s eta 0:00:01\r\u001b[K     |█████████████▌                  | 256kB 5.7MB/s eta 0:00:01\r\u001b[K     |██████████████                  | 266kB 5.7MB/s eta 0:00:01\r\u001b[K     |██████████████▋                 | 276kB 5.7MB/s eta 0:00:01\r\u001b[K     |███████████████▏                | 286kB 5.7MB/s eta 0:00:01\r\u001b[K     |███████████████▊                | 296kB 5.7MB/s eta 0:00:01\r\u001b[K     |████████████████▎               | 307kB 5.7MB/s eta 0:00:01\r\u001b[K     |████████████████▉               | 317kB 5.7MB/s eta 0:00:01\r\u001b[K     |█████████████████▍              | 327kB 5.7MB/s eta 0:00:01\r\u001b[K     |██████████████████              | 337kB 5.7MB/s eta 0:00:01\r\u001b[K     |██████████████████▍             | 348kB 5.7MB/s eta 0:00:01\r\u001b[K     |███████████████████             | 358kB 5.7MB/s eta 0:00:01\r\u001b[K     |███████████████████▌            | 368kB 5.7MB/s eta 0:00:01\r\u001b[K     |████████████████████            | 378kB 5.7MB/s eta 0:00:01\r\u001b[K     |████████████████████▋           | 389kB 5.7MB/s eta 0:00:01\r\u001b[K     |█████████████████████▏          | 399kB 5.7MB/s eta 0:00:01\r\u001b[K     |█████████████████████▊          | 409kB 5.7MB/s eta 0:00:01\r\u001b[K     |██████████████████████▎         | 419kB 5.7MB/s eta 0:00:01\r\u001b[K     |██████████████████████▊         | 430kB 5.7MB/s eta 0:00:01\r\u001b[K     |███████████████████████▎        | 440kB 5.7MB/s eta 0:00:01\r\u001b[K     |███████████████████████▉        | 450kB 5.7MB/s eta 0:00:01\r\u001b[K     |████████████████████████▍       | 460kB 5.7MB/s eta 0:00:01\r\u001b[K     |█████████████████████████       | 471kB 5.7MB/s eta 0:00:01\r\u001b[K     |█████████████████████████▌      | 481kB 5.7MB/s eta 0:00:01\r\u001b[K     |██████████████████████████      | 491kB 5.7MB/s eta 0:00:01\r\u001b[K     |██████████████████████████▋     | 501kB 5.7MB/s eta 0:00:01\r\u001b[K     |███████████████████████████     | 512kB 5.7MB/s eta 0:00:01\r\u001b[K     |███████████████████████████▋    | 522kB 5.7MB/s eta 0:00:01\r\u001b[K     |████████████████████████████▏   | 532kB 5.7MB/s eta 0:00:01\r\u001b[K     |████████████████████████████▊   | 542kB 5.7MB/s eta 0:00:01\r\u001b[K     |█████████████████████████████▎  | 552kB 5.7MB/s eta 0:00:01\r\u001b[K     |█████████████████████████████▉  | 563kB 5.7MB/s eta 0:00:01\r\u001b[K     |██████████████████████████████▍ | 573kB 5.7MB/s eta 0:00:01\r\u001b[K     |███████████████████████████████ | 583kB 5.7MB/s eta 0:00:01\r\u001b[K     |███████████████████████████████▍| 593kB 5.7MB/s eta 0:00:01\r\u001b[K     |████████████████████████████████| 604kB 5.7MB/s eta 0:00:01\r\u001b[K     |████████████████████████████████| 614kB 5.7MB/s \n",
            "\u001b[?25hRequirement already satisfied: numpy in /usr/local/lib/python3.6/dist-packages (from pyeer) (1.19.4)\n",
            "Requirement already satisfied: matplotlib in /usr/local/lib/python3.6/dist-packages (from pyeer) (3.2.2)\n",
            "Requirement already satisfied: kiwisolver>=1.0.1 in /usr/local/lib/python3.6/dist-packages (from matplotlib->pyeer) (1.3.1)\n",
            "Requirement already satisfied: cycler>=0.10 in /usr/local/lib/python3.6/dist-packages (from matplotlib->pyeer) (0.10.0)\n",
            "Requirement already satisfied: pyparsing!=2.0.4,!=2.1.2,!=2.1.6,>=2.0.1 in /usr/local/lib/python3.6/dist-packages (from matplotlib->pyeer) (2.4.7)\n",
            "Requirement already satisfied: python-dateutil>=2.1 in /usr/local/lib/python3.6/dist-packages (from matplotlib->pyeer) (2.8.1)\n",
            "Requirement already satisfied: six in /usr/local/lib/python3.6/dist-packages (from cycler>=0.10->matplotlib->pyeer) (1.15.0)\n",
            "Building wheels for collected packages: pyeer\n",
            "  Building wheel for pyeer (setup.py) ... \u001b[?25l\u001b[?25hdone\n",
            "  Created wheel for pyeer: filename=pyeer-0.5.4-cp36-none-any.whl size=603835 sha256=2cb17995a83ad7bd2914d3364ad8515ca1e858ee6579fa93d542cba953eedb67\n",
            "  Stored in directory: /root/.cache/pip/wheels/8c/26/2e/39ca25f59deb5f470fbb378f70b79033719582d9c894e9803f\n",
            "Successfully built pyeer\n",
            "Installing collected packages: pyeer\n",
            "Successfully installed pyeer-0.5.4\n"
          ],
          "name": "stdout"
        }
      ]
    },
    {
      "cell_type": "code",
      "metadata": {
        "id": "-fMsZ99UKZD2"
      },
      "source": [
        "import pyeer\n",
        "import json\n",
        "import pandas as pd\n",
        "from datetime import datetime\n",
        "import pickle\n",
        "import scipy.stats\n",
        "from sklearn.metrics import accuracy_score, f1_score, recall_score, precision_score, roc_curve, roc_auc_score\n",
        "from sklearn.model_selection import train_test_split\n",
        "from sklearn.manifold import TSNE\n",
        "from sklearn.naive_bayes import GaussianNB\n",
        "from sklearn.svm import SVC\n",
        "from sklearn.ensemble import RandomForestClassifier\n",
        "from sklearn.neural_network import MLPClassifier\n",
        "from sklearn.neighbors import KNeighborsClassifier\n",
        "from sklearn.decomposition import PCA, TruncatedSVD\n",
        "from sklearn.preprocessing import StandardScaler\n",
        "import numpy as np\n",
        "import seaborn as sns\n",
        "import matplotlib.pyplot as plt\n",
        "import tensorflow as tf\n",
        "from keras.models import Sequential\n",
        "from keras.layers import LSTM, Dense, Activation, InputLayer"
      ],
      "execution_count": null,
      "outputs": []
    },
    {
      "cell_type": "code",
      "metadata": {
        "id": "dv3t_xNPr1zg"
      },
      "source": [
        "def pickling(fname, obj):\n",
        "  f = open(fname, \"wb\")\n",
        "  pickle.dump(obj, f)\n",
        "  f.close()\n",
        "\n",
        "def unpickling(fname):\n",
        "  f = open(fname, 'rb')\n",
        "  g = pickle.load(f) \n",
        "  f.close()\n",
        "  return g"
      ],
      "execution_count": null,
      "outputs": []
    },
    {
      "cell_type": "markdown",
      "metadata": {
        "id": "kJv2PjLdJrCh"
      },
      "source": [
        "# **Data Parsing**"
      ]
    },
    {
      "cell_type": "code",
      "metadata": {
        "id": "K7g9OYXsqzik"
      },
      "source": [
        "users = unpickling('saved_objects/users.pkl')"
      ],
      "execution_count": null,
      "outputs": []
    },
    {
      "cell_type": "markdown",
      "metadata": {
        "id": "gnLQOw3Uhha9"
      },
      "source": [
        "# **Preprocessing**"
      ]
    },
    {
      "cell_type": "markdown",
      "metadata": {
        "id": "SEM5EVo-vNvv"
      },
      "source": [
        "### Helper functions"
      ]
    },
    {
      "cell_type": "code",
      "metadata": {
        "id": "0kYojKzKhkXO"
      },
      "source": [
        "def pickup_user(u):\n",
        "  #assumed the user id exists and the directory is right\n",
        "  d = {}\n",
        "  for i in range(24):\n",
        "    d[i + 1] = {}\n",
        "    ss = u + '/' + u+'_' + 'session' + '_' + str(i+1)\n",
        "    d[i + 1]['task'] = int(pd.read_csv(ss + '/Activity.csv', header = None, usecols = [8], names =['at'])['at'][0])\n",
        "    d[i+1]['touch'] = pd.read_csv(ss + '/' + 'TouchEvent.csv', header = None, usecols = list(range(11)), names=['systime', 'etime', 'actid', 'ptrcnt', 'ptrid', 'actionid', 'X', 'Y', 'pressure', 'csize', 'orientation'])\n",
        "    d[i+1]['accelerometer'] = pd.read_csv(ss + '/Accelerometer.csv', header = None, usecols = list(range(7)), names = ['systime', 'etime', 'actid', 'X', 'Y', 'Z', 'orientation'])\n",
        "    d[i+1]['magnetometer'] = pd.read_csv(ss + '/Magnetometer.csv', header=None, usecols = list(range(7)), names = ['systime', 'etime', 'actid', 'X', 'Y', 'Z', 'orientation'])\n",
        "    d[i+1]['gyroscope'] = pd.read_csv(ss + '/Gyroscope.csv', header=None,usecols = list(range(7)), names = ['systime', 'etime', 'actid', 'X', 'Y', 'Z', 'orientation'])\n",
        "  return d"
      ],
      "execution_count": null,
      "outputs": []
    },
    {
      "cell_type": "code",
      "metadata": {
        "id": "OVfkPkY8hOlE"
      },
      "source": [
        "def get_dist(x1, y1, x2, y2):\n",
        "  return np.sqrt((x1-x2)**2 + (y1 - y2)**2)"
      ],
      "execution_count": null,
      "outputs": []
    },
    {
      "cell_type": "code",
      "metadata": {
        "id": "jX3WfmY7iHWP"
      },
      "source": [
        "def mid_stroke_pressure(a):\n",
        "  if len(a)%2 == 0:\n",
        "    return (a[len(a)//2]['pressure'] + a[(len(a)//2) - 1]['pressure'])/2\n",
        "  return a[len(a)//2]['pressure']"
      ],
      "execution_count": null,
      "outputs": []
    },
    {
      "cell_type": "code",
      "metadata": {
        "id": "F32WYWjCnlIr"
      },
      "source": [
        "def length_of_stroke(a):\n",
        "  d = 0\n",
        "  for i in range(1,len(a)):\n",
        "    d += get_dist(a[i-1]['X'], a[i-1]['Y'], a[i]['X'], a[i]['Y'])\n",
        "  return d"
      ],
      "execution_count": null,
      "outputs": []
    },
    {
      "cell_type": "code",
      "metadata": {
        "id": "4wUrlFotk5yM"
      },
      "source": [
        "def get_vx(a):\n",
        "  v = []\n",
        "  for i in range(1, len(a)):\n",
        "    d = a[i]['X'] - a[i-1]['X']\n",
        "    t = a[i]['systime'] - a[i-1]['systime']\n",
        "    if(t == 0):\n",
        "      v.append(v[-1])\n",
        "      continue\n",
        "    v.append(d/t)\n",
        "  return v"
      ],
      "execution_count": null,
      "outputs": []
    },
    {
      "cell_type": "code",
      "metadata": {
        "id": "HL39RuFAloW3"
      },
      "source": [
        "def get_vy(a):\n",
        "  v = []\n",
        "  for i in range(1, len(a)):\n",
        "    d = a[i]['Y'] - a[i-1]['Y']\n",
        "    t = a[i]['systime'] - a[i-1]['systime']\n",
        "    if(t == 0):\n",
        "      v.append(v[-1])\n",
        "      continue\n",
        "    v.append(d/t)\n",
        "  return v"
      ],
      "execution_count": null,
      "outputs": []
    },
    {
      "cell_type": "code",
      "metadata": {
        "id": "mgKA9FWumOiy"
      },
      "source": [
        "def get_ax(a, vx):\n",
        "  vx = np.concatenate((vx, [0]))\n",
        "  ax = []\n",
        "  for i in range(1, len(a)):\n",
        "    dv = vx[i] - vx[i-1]\n",
        "    t = a[i]['systime'] - a[i-1]['systime']\n",
        "    if t == 0:\n",
        "      ax.append(ax[-1])\n",
        "      continue\n",
        "    ax.append(dv/t)\n",
        "  return ax"
      ],
      "execution_count": null,
      "outputs": []
    },
    {
      "cell_type": "code",
      "metadata": {
        "id": "qwwRaKUkm4Zz"
      },
      "source": [
        "def get_ay(a, vy):\n",
        "  vy = np.concatenate((vy, [0]))\n",
        "  ay = []\n",
        "  for i in range(1, len(a)):\n",
        "    dv = vy[i] - vy[i-1]\n",
        "    t = a[i]['systime'] - a[i-1]['systime']\n",
        "    if(t == 0):\n",
        "      ay.append(ay[-1])\n",
        "      continue\n",
        "    ay.append(dv/t)\n",
        "  return ay"
      ],
      "execution_count": null,
      "outputs": []
    },
    {
      "cell_type": "code",
      "metadata": {
        "id": "Br7VJPCa1Fro"
      },
      "source": [
        "def swipe_to_features(a):\n",
        "  X = []\n",
        "  vx = np.array(get_vx(a))\n",
        "  vy = np.array(get_vy(a))\n",
        "  ax = np.array(get_ax(a, vx))\n",
        "  ay = np.array(get_ay(a, vy))\n",
        "  ps = np.array([i['pressure'] for i in a])\n",
        "  cs = np.array([i['csize'] for i in a])\n",
        "\n",
        "  X.append(a[-1]['systime'] - a[0]['systime'])\n",
        "  X.append(a[0]['X'])\n",
        "  X.append(a[0]['Y'])\n",
        "  X.append(a[-1]['X'])\n",
        "  X.append(a[-1]['Y'])\n",
        "  X.append(np.min(vx))\n",
        "  X.append(np.max(vx))\n",
        "  X.append(np.min(vy))\n",
        "  X.append(np.max(vy))\n",
        "  X.append(np.mean(vx))\n",
        "  X.append(np.mean(vy))\n",
        "  X.append(np.std(vx))\n",
        "  X.append(np.std(vy))\n",
        "  X.append(np.var(vx))\n",
        "  X.append(np.var(vy))\n",
        "  X.append(np.min(ax))\n",
        "  X.append(np.max(ax))\n",
        "  X.append(np.mean(ax))\n",
        "  X.append(np.std(ax))\n",
        "  X.append(np.var(ax))\n",
        "  X.append(np.min(ay))\n",
        "  X.append(np.max(ay))\n",
        "  X.append(np.mean(ay))\n",
        "  X.append(np.std(ay))\n",
        "  X.append(np.var(ay))\n",
        "  X.append(np.min(ps))\n",
        "  X.append(np.max(ps))\n",
        "  X.append(np.mean(ps))\n",
        "  X.append(np.std(ps))\n",
        "  X.append(np.var(ps))\n",
        "  l = length_of_stroke(a)\n",
        "  X.append(l)\n",
        "  d = get_dist(a[0]['X'], a[0]['Y'], a[-1]['X'], a[-1]['X'])\n",
        "  X.append(d)\n",
        "  X.append(np.min(cs))\n",
        "  X.append(np.max(cs))\n",
        "  X.append(np.mean(cs))\n",
        "  X.append(np.std(cs))\n",
        "  X.append(np.var(cs))\n",
        "  return (X, a[0]['systime'], a[-1]['systime'], d, l)\n"
      ],
      "execution_count": null,
      "outputs": []
    },
    {
      "cell_type": "code",
      "metadata": {
        "id": "5WuOvofI00mA"
      },
      "source": [
        "def extract_touches(df):\n",
        "  swipes = []\n",
        "  swipe = []\n",
        "  for index, row in df.iterrows():\n",
        "    if(row['orientation'] != 0):\n",
        "      continue\n",
        "    if(row['ptrcnt'] != 1):\n",
        "      continue\n",
        "    if(row['actionid'] in [0, 5]):\n",
        "      swipe.append(row)\n",
        "      continue\n",
        "    if(row['actionid'] == 2):\n",
        "      if(len(swipe) > 0 and row['systime'] == swipe[-1]['systime']):\n",
        "        continue\n",
        "      else:\n",
        "        swipe.append(row)\n",
        "    if(row['actionid'] in [1, 6]):\n",
        "      if(row['systime'] != swipe[-1]['systime']):\n",
        "        swipe.append(row)\n",
        "      if(len(swipe) <= 7):\n",
        "        swipe = []\n",
        "        continue\n",
        "      fset = swipe_to_features(swipe)\n",
        "      if(fset[4] < 0.01):\n",
        "        swipe = []\n",
        "        continue\n",
        "      swipes.append(swipe_to_features(swipe))\n",
        "      swipe = []\n",
        "  return swipes"
      ],
      "execution_count": null,
      "outputs": []
    },
    {
      "cell_type": "code",
      "metadata": {
        "id": "tAxFnKrtor2w"
      },
      "source": [
        "def sensor_to_feature(a):\n",
        "  X = []\n",
        "  xs = [i['X'] for i in a]\n",
        "  ys = [i['Y'] for i in a]\n",
        "  zs = [i['Z'] for i in a]\n",
        "  M = [np.sqrt(i['X']**2 + i['Y']**2 + i['Z']**2) for i in a]\n",
        "  X.append(np.mean(xs))\n",
        "  X.append(np.mean(ys))\n",
        "  X.append(np.mean(zs))\n",
        "  X.append(np.mean(M))\n",
        "  X.append(np.std(xs))\n",
        "  X.append(np.std(ys))\n",
        "  X.append(np.std(zs))\n",
        "  X.append(np.std(M))\n",
        "  X.append(scipy.stats.skew(xs))\n",
        "  X.append(scipy.stats.skew(ys))\n",
        "  X.append(scipy.stats.skew(zs))\n",
        "  X.append(scipy.stats.skew(M))\n",
        "  X.append(scipy.stats.kurtosis(xs))\n",
        "  X.append(scipy.stats.kurtosis(ys))\n",
        "  X.append(scipy.stats.kurtosis(zs))\n",
        "  X.append(scipy.stats.kurtosis(M))\n",
        "  return X"
      ],
      "execution_count": null,
      "outputs": []
    },
    {
      "cell_type": "code",
      "metadata": {
        "id": "gWXB38UT-RPT"
      },
      "source": [
        "def extract_sensor(df, swipes):\n",
        "  data_points = []\n",
        "  pt = []\n",
        "  i = 0\n",
        "  for index, row in df.iterrows():\n",
        "    if( i >= len(swipes)):\n",
        "      continue\n",
        "    if(row['systime'] < swipes[i][1]):\n",
        "      continue\n",
        "    if(row['systime'] >= swipes[i][1] and row['systime'] <= swipes[i][2]):\n",
        "      pt.append(row)\n",
        "    if(row['systime'] >= swipes[i][2]):\n",
        "      i += 1\n",
        "      data_points.append(sensor_to_feature(pt))\n",
        "      pt = []\n",
        "  return data_points\n",
        "      "
      ],
      "execution_count": null,
      "outputs": []
    },
    {
      "cell_type": "code",
      "metadata": {
        "id": "PQNZ0ouOWH_g"
      },
      "source": [
        "def get_features(u):\n",
        "  #input: user id\n",
        "  u = pickup_user(u)\n",
        "  # u = unpickling('saved_objects/' + u + '_data.pkl')\n",
        "  d = {0: None, 1: None}\n",
        "  for ss in range(24):\n",
        "    sw = extract_touches(u[ss+1]['touch'])\n",
        "    swipes = np.array([i[0] for i in sw])\n",
        "    ac = np.array(extract_sensor(u[ss+1]['accelerometer'], sw))\n",
        "    gy = np.array(extract_sensor(u[ss+1]['gyroscope'], sw))\n",
        "    mag = np.array(extract_sensor(u[ss+1]['magnetometer'], sw))\n",
        "    if(u[ss + 1]['task']%6 in [1, 2]):\n",
        "      tt = np.array([1, 0, 0])\n",
        "    if(u[ss + 1]['task']%6 in [3, 4]):\n",
        "      tt = np.array([0, 1, 0])\n",
        "    if(u[ss + 1]['task']%6 in [0, 5]):\n",
        "      tt = np.array([0, 0, 1])\n",
        "    if(swipes.shape[0] == 0):\n",
        "      continue\n",
        "    print(swipes.shape, ac.shape, gy.shape, mag.shape)\n",
        "    vectors = np.concatenate((swipes, ac, gy, mag), axis = 1)\n",
        "    c = np.tile(tt[np.newaxis,:], (vectors.shape[0],1))\n",
        "    vectors = np.concatenate((vectors, c), axis = 1)\n",
        "    if(type(d[u[ss+1]['task']%2]) == type(None)):\n",
        "      d[u[ss+1]['task']%2] = vectors\n",
        "    else:\n",
        "      d[u[ss+1]['task']%2] = np.concatenate((d[u[ss+1]['task']%2], vectors))\n",
        "  return d\n",
        "\n",
        "    "
      ],
      "execution_count": null,
      "outputs": []
    },
    {
      "cell_type": "markdown",
      "metadata": {
        "id": "1uKE-OnGV8c-"
      },
      "source": [
        "### Feature vector generation"
      ]
    },
    {
      "cell_type": "code",
      "metadata": {
        "id": "m_3MXFjQNMcg"
      },
      "source": [
        "i = 0\n",
        "for user in users[56:]:\n",
        "  print (\"User#\" + str(i), user)\n",
        "  v = get_features(user)\n",
        "  pickling('saved_objects/' + user + \"_features2.pkl\", v)\n",
        "  i += 1\n"
      ],
      "execution_count": null,
      "outputs": []
    },
    {
      "cell_type": "markdown",
      "metadata": {
        "id": "vh3rvsy68RDo"
      },
      "source": [
        "# **Evaluation**"
      ]
    },
    {
      "cell_type": "code",
      "metadata": {
        "id": "pGmoKR_1Q3es"
      },
      "source": [
        "def getCounts(predicted, actual, label):\n",
        "\ttp, tn, fn, fp = 0, 0, 0, 0\n",
        "\tfor i in range(len(predicted)):\n",
        "\t\tif(predicted[i] == label and actual[i] == label):\n",
        "\t\t\ttp += 1\n",
        "\t\telif(predicted[i] != label and actual[i] != label):\n",
        "\t\t\ttn += 1\n",
        "\t\telif(predicted[i] == label and actual[i] != label):\n",
        "\t\t\tfp += 1\n",
        "\t\telif(predicted[i] != label and actual[i] == label):\n",
        "\t\t\tfn += 1\n",
        "\treturn {'tp': tp, 'fp': fp, 'fn': fn, 'tn': tn}"
      ],
      "execution_count": null,
      "outputs": []
    },
    {
      "cell_type": "code",
      "metadata": {
        "id": "I5nyLGV2LXJm"
      },
      "source": [
        "def TAR(predicted, actual, label):\n",
        "  d = getCounts(predicted, actual, label)\n",
        "  return d['tp']/(d['tp'] + d['fn'])"
      ],
      "execution_count": null,
      "outputs": []
    },
    {
      "cell_type": "code",
      "metadata": {
        "id": "HFJezHtKLaUJ"
      },
      "source": [
        "def FAR(predicted, actual, label):\n",
        "  d = getCounts(predicted, actual, label)\n",
        "  return d['fp']/(d['fp'] + d['tn'])"
      ],
      "execution_count": null,
      "outputs": []
    },
    {
      "cell_type": "code",
      "metadata": {
        "id": "byEzL39RL7GJ"
      },
      "source": [
        "def FRR(predicted, actual, label):\n",
        "  d = getCounts(predicted, actual, label)\n",
        "  return d['fn']/(d['fn'] + d['tp'])"
      ],
      "execution_count": null,
      "outputs": []
    },
    {
      "cell_type": "code",
      "metadata": {
        "id": "elPNVc56MdC3"
      },
      "source": [
        "def TRR(predicted, actual, label):\n",
        "  d = getCounts(predicted, actual, label)\n",
        "  return d['tn']/(d['tn'] + d['fp'])"
      ],
      "execution_count": null,
      "outputs": []
    },
    {
      "cell_type": "markdown",
      "metadata": {
        "id": "knZCGDkXSqn_"
      },
      "source": [
        "# **Walking**"
      ]
    },
    {
      "cell_type": "markdown",
      "metadata": {
        "id": "TJu3ZzePUg04"
      },
      "source": [
        "## Loading Data"
      ]
    },
    {
      "cell_type": "code",
      "metadata": {
        "id": "A6BACHaGT9Vd"
      },
      "source": [
        "a =[]\n",
        "for i in range(1, 50):\n",
        "  a.append(unpickling('saved_objects/' + users[i] + \"_features2.pkl\"))\n",
        "u = unpickling('saved_objects/' + users[0] + '_features2.pkl')"
      ],
      "execution_count": null,
      "outputs": []
    },
    {
      "cell_type": "code",
      "metadata": {
        "id": "mtRzXa-jbv8y"
      },
      "source": [
        "data = u[0]\n",
        "labels = [1]*len(data)"
      ],
      "execution_count": null,
      "outputs": []
    },
    {
      "cell_type": "code",
      "metadata": {
        "id": "lzK5xs7-baov"
      },
      "source": [
        "for i in a:\n",
        "  r = np.random.choice(len(i[0]), size = 30, replace=False)\n",
        "  data = np.concatenate((data, i[0][r, :]))\n",
        "  labels += [0]*len(r)"
      ],
      "execution_count": null,
      "outputs": []
    },
    {
      "cell_type": "code",
      "metadata": {
        "id": "InnuR4JHXQUl"
      },
      "source": [
        "labels = np.array(labels)"
      ],
      "execution_count": null,
      "outputs": []
    },
    {
      "cell_type": "code",
      "metadata": {
        "id": "DiIMR2NTCUFV"
      },
      "source": [
        "labels = labels.reshape(-1, 1)"
      ],
      "execution_count": null,
      "outputs": []
    },
    {
      "cell_type": "code",
      "metadata": {
        "id": "LNVCm9-LemeO"
      },
      "source": [
        "train = np.concatenate((data, labels), axis = 1)"
      ],
      "execution_count": null,
      "outputs": []
    },
    {
      "cell_type": "code",
      "metadata": {
        "id": "GocUFy7Of3Wm"
      },
      "source": [
        "np.random.shuffle(train)"
      ],
      "execution_count": null,
      "outputs": []
    },
    {
      "cell_type": "code",
      "metadata": {
        "id": "YPEljwTyf70d"
      },
      "source": [
        "X_t = train[:,:-1]\n",
        "Y_t = train[:,-1]"
      ],
      "execution_count": null,
      "outputs": []
    },
    {
      "cell_type": "code",
      "metadata": {
        "id": "f6ADAuk98vL1"
      },
      "source": [
        "train_X, test_X, train_Y, test_Y = train_test_split(X_t, Y_t, test_size = 0.2, random_state = 42 ,stratify = Y_t)"
      ],
      "execution_count": null,
      "outputs": []
    },
    {
      "cell_type": "markdown",
      "metadata": {
        "id": "JIKOzSD88saW"
      },
      "source": [
        "## Single Swipe"
      ]
    },
    {
      "cell_type": "markdown",
      "metadata": {
        "id": "OWo0XFaBZMQA"
      },
      "source": [
        "### Random Forest"
      ]
    },
    {
      "cell_type": "code",
      "metadata": {
        "colab": {
          "base_uri": "https://localhost:8080/"
        },
        "id": "96rFdm0COKGq",
        "outputId": "3960449d-eb4b-4e6c-abfe-20397dd1d33d"
      },
      "source": [
        "clf = RandomForestClassifier(max_depth = 12, n_estimators=1000, criterion = 'entropy', random_state=100)\n",
        "clf.fit(train_X, train_Y)\n",
        "print (\"Train\", clf.score(train_X, train_Y))\n",
        "print (\"Test\", clf.score(test_X, test_Y))\n",
        "ypred = clf.predict(test_X)\n",
        "print (\"TAR:\",TAR(ypred, test_Y,1))\n",
        "print (\"TRR:\",TRR(ypred, test_Y, 1))\n",
        "print(\"F1 Score:\", f1_score(test_Y, ypred))"
      ],
      "execution_count": null,
      "outputs": [
        {
          "output_type": "stream",
          "text": [
            "Train 0.9992779783393502\n",
            "Test 0.950937950937951\n",
            "TAR: 0.9699248120300752\n",
            "TRR: 0.9251700680272109\n",
            "F1 Score: 0.9579207920792079\n"
          ],
          "name": "stdout"
        }
      ]
    },
    {
      "cell_type": "markdown",
      "metadata": {
        "id": "_kYhU5X58iVK"
      },
      "source": [
        "### Gaussian Naive Bayes"
      ]
    },
    {
      "cell_type": "code",
      "metadata": {
        "colab": {
          "base_uri": "https://localhost:8080/"
        },
        "id": "sdnky28GPU6a",
        "outputId": "0c6eb96c-4604-48fb-a56c-b179b2a8038c"
      },
      "source": [
        "clf = GaussianNB()\n",
        "clf.fit(train_X, train_Y)\n",
        "print (\"Train\", clf.score(train_X, train_Y))\n",
        "print (\"Test\", clf.score(test_X, test_Y))\n",
        "ypred = clf.predict(test_X)\n",
        "print (\"TAR:\",TAR(ypred, test_Y,1))\n",
        "print (\"TRR:\",TRR(ypred, test_Y, 1))\n",
        "print(\"F1 Score:\", f1_score(test_Y, ypred))"
      ],
      "execution_count": null,
      "outputs": [
        {
          "output_type": "stream",
          "text": [
            "Train 0.6563176895306859\n",
            "Test 0.645021645021645\n",
            "TAR: 0.9624060150375939\n",
            "TRR: 0.21428571428571427\n",
            "F1 Score: 0.757396449704142\n"
          ],
          "name": "stdout"
        }
      ]
    },
    {
      "cell_type": "markdown",
      "metadata": {
        "id": "tDnBeGLa8k_8"
      },
      "source": [
        "### KNN"
      ]
    },
    {
      "cell_type": "code",
      "metadata": {
        "colab": {
          "base_uri": "https://localhost:8080/"
        },
        "id": "P7TRsJQ7TsAx",
        "outputId": "716f3851-d9fa-4f40-dcf5-f1b520864b3e"
      },
      "source": [
        "clf = KNeighborsClassifier(3, metric='cosine')\n",
        "clf.fit(train_X, train_Y)\n",
        "print (\"Train\", clf.score(train_X, train_Y))\n",
        "print (\"Test\", clf.score(test_X, test_Y))\n",
        "ypred = clf.predict(test_X)\n",
        "print (\"TAR:\",TAR(ypred, test_Y,1))\n",
        "print (\"TRR:\",TRR(ypred, test_Y, 1))\n",
        "print(\"F1 Score:\", f1_score(test_Y, ypred))"
      ],
      "execution_count": null,
      "outputs": [
        {
          "output_type": "stream",
          "text": [
            "Train 0.8833935018050542\n",
            "Test 0.7503607503607503\n",
            "TAR: 0.8170426065162907\n",
            "TRR: 0.6598639455782312\n",
            "F1 Score: 0.7903030303030303\n"
          ],
          "name": "stdout"
        }
      ]
    },
    {
      "cell_type": "markdown",
      "metadata": {
        "id": "rNhuLRM28mYe"
      },
      "source": [
        "### SVC"
      ]
    },
    {
      "cell_type": "code",
      "metadata": {
        "colab": {
          "base_uri": "https://localhost:8080/"
        },
        "id": "e6g3SE0eU6Vf",
        "outputId": "4cac84e9-f003-43f3-84ae-8898869ac64c"
      },
      "source": [
        "clf = SVC(random_state=0)\n",
        "clf.fit(train_X, train_Y)\n",
        "print (\"Train\", clf.score(train_X, train_Y))\n",
        "print (\"Test\", clf.score(test_X, test_Y))\n",
        "ypred = clf.predict(test_X)\n",
        "print (\"TAR:\",TAR(ypred, test_Y,1))\n",
        "print (\"TRR:\",TRR(ypred, test_Y, 1))\n",
        "print(\"F1 Score:\", f1_score(test_Y, ypred))"
      ],
      "execution_count": null,
      "outputs": [
        {
          "output_type": "stream",
          "text": [
            "Train 0.7794223826714801\n",
            "Test 0.7489177489177489\n",
            "TAR: 0.8370927318295739\n",
            "TRR: 0.6292517006802721\n",
            "F1 Score: 0.7933491686460807\n"
          ],
          "name": "stdout"
        }
      ]
    },
    {
      "cell_type": "markdown",
      "metadata": {
        "id": "mqfOvM2R8oD_"
      },
      "source": [
        "### MLP"
      ]
    },
    {
      "cell_type": "code",
      "metadata": {
        "id": "gLlkCv5RRMAS",
        "colab": {
          "base_uri": "https://localhost:8080/"
        },
        "outputId": "a36be6ba-61ab-425a-ed90-14e5152ae3b0"
      },
      "source": [
        "clf = MLPClassifier()\n",
        "clf.fit(train_X, train_Y)\n",
        "print (\"Train\", clf.score(train_X, train_Y))\n",
        "print (\"Test\", clf.score(test_X, test_Y))\n",
        "ypred = clf.predict(test_X)\n",
        "print (\"TAR:\",TAR(ypred, test_Y,1))\n",
        "print (\"TRR:\",TRR(ypred, test_Y, 1))\n",
        "print(\"F1 Score:\", f1_score(test_Y, ypred))"
      ],
      "execution_count": null,
      "outputs": [
        {
          "output_type": "stream",
          "text": [
            "Train 0.903971119133574\n",
            "Test 0.8643578643578643\n",
            "TAR: 0.8421052631578947\n",
            "TRR: 0.8945578231292517\n",
            "F1 Score: 0.877284595300261\n"
          ],
          "name": "stdout"
        }
      ]
    },
    {
      "cell_type": "markdown",
      "metadata": {
        "id": "Nq5BLFGh869u"
      },
      "source": [
        "## Multi-Swipe"
      ]
    },
    {
      "cell_type": "code",
      "metadata": {
        "id": "AtiHfTt0NyEQ"
      },
      "source": [
        "X = []\n",
        "Y = []\n",
        "look_back = 5\n",
        "for i in range(len(u[1])-look_back):\n",
        "  r = u[1][i]\n",
        "  for j in range(1, look_back):\n",
        "    r = np.concatenate((r, u[1][i+j]))\n",
        "  X.append(r)\n",
        "  Y.append(1)\n",
        "\n",
        "for k in a:\n",
        "  for i in range(min(len(k[1])-look_back, 200)):\n",
        "    r = k[1][i]\n",
        "    for j in range(1, look_back):\n",
        "      r = np.concatenate((r, k[1][i+j]))\n",
        "    X.append(r)\n",
        "    Y.append(0)\n",
        "X = np.array(X)\n",
        "Y = np.array(Y)\n",
        "train_X, test_X, train_Y, test_Y = train_test_split(X, Y, stratify=Y, test_size = 0.2)"
      ],
      "execution_count": null,
      "outputs": []
    },
    {
      "cell_type": "markdown",
      "metadata": {
        "id": "B7DiB3mX8_Vl"
      },
      "source": [
        "### Random Forest"
      ]
    },
    {
      "cell_type": "code",
      "metadata": {
        "colab": {
          "base_uri": "https://localhost:8080/"
        },
        "id": "zzN3muBkXSe2",
        "outputId": "e42a6cb6-1a48-4285-aa43-8aee4eca8d3f"
      },
      "source": [
        "clf = RandomForestClassifier(max_depth = 11, n_estimators=100, criterion = 'entropy', random_state=100)\n",
        "clf.fit(train_X, train_Y)\n",
        "print (\"Train\", clf.score(train_X, train_Y))\n",
        "print (\"Test\", clf.score(test_X, test_Y))\n",
        "ypred = clf.predict(test_X)\n",
        "print (\"TAR:\",TAR(ypred, test_Y,1))\n",
        "print (\"TRR:\",TRR(ypred, test_Y, 1))\n",
        "print(\"F1 Score:\", f1_score(test_Y, ypred))"
      ],
      "execution_count": null,
      "outputs": [
        {
          "output_type": "stream",
          "text": [
            "Train 1.0\n",
            "Test 0.9987124463519313\n",
            "TAR: 0.991869918699187\n",
            "TRR: 1.0\n",
            "F1 Score: 0.9959183673469388\n"
          ],
          "name": "stdout"
        }
      ]
    },
    {
      "cell_type": "markdown",
      "metadata": {
        "id": "Jg4YyJWa9BZX"
      },
      "source": [
        "### Gaussian Naive Bayes"
      ]
    },
    {
      "cell_type": "code",
      "metadata": {
        "colab": {
          "base_uri": "https://localhost:8080/"
        },
        "id": "qeKaGZTOTv7h",
        "outputId": "147f4fc0-b846-46ef-9318-9e242af55eaa"
      },
      "source": [
        "clf = GaussianNB()\n",
        "clf.fit(train_X, train_Y)\n",
        "print (\"Train\", clf.score(train_X, train_Y))\n",
        "print (\"Test\", clf.score(test_X, test_Y))\n",
        "ypred = clf.predict(test_X)\n",
        "print (\"TAR:\",TAR(ypred, test_Y,1))\n",
        "print (\"TRR:\",TRR(ypred, test_Y, 1))\n",
        "print(\"F1 Score:\", f1_score(test_Y, ypred))"
      ],
      "execution_count": null,
      "outputs": [
        {
          "output_type": "stream",
          "text": [
            "Train 0.7382204572287216\n",
            "Test 0.7536480686695279\n",
            "TAR: 0.9322493224932249\n",
            "TRR: 0.7200407955124937\n",
            "F1 Score: 0.5451664025356576\n"
          ],
          "name": "stdout"
        }
      ]
    },
    {
      "cell_type": "markdown",
      "metadata": {
        "id": "56l2nf1h9JbB"
      },
      "source": [
        "### KNN"
      ]
    },
    {
      "cell_type": "code",
      "metadata": {
        "colab": {
          "base_uri": "https://localhost:8080/"
        },
        "id": "riss1AVoT8A4",
        "outputId": "55e254c4-034f-4c1f-ba4e-0c4176579245"
      },
      "source": [
        "clf = KNeighborsClassifier(3, metric='cosine')\n",
        "clf.fit(train_X, train_Y)\n",
        "print (\"Train\", clf.score(train_X, train_Y))\n",
        "print (\"Test\", clf.score(test_X, test_Y))\n",
        "ypred = clf.predict(test_X)\n",
        "print (\"TAR:\",TAR(ypred, test_Y,1))\n",
        "print (\"TRR:\",TRR(ypred, test_Y, 1))\n",
        "print(\"F1 Score:\", f1_score(test_Y, ypred))"
      ],
      "execution_count": null,
      "outputs": [
        {
          "output_type": "stream",
          "text": [
            "Train 0.9281957711709777\n",
            "Test 0.869098712446352\n",
            "TAR: 0.4823848238482385\n",
            "TRR: 0.9418663946965834\n",
            "F1 Score: 0.5385779122541604\n"
          ],
          "name": "stdout"
        }
      ]
    },
    {
      "cell_type": "markdown",
      "metadata": {
        "id": "TBe63PSO9LPZ"
      },
      "source": [
        "### SVC"
      ]
    },
    {
      "cell_type": "code",
      "metadata": {
        "colab": {
          "base_uri": "https://localhost:8080/"
        },
        "id": "mQHo1mqJT8Bc",
        "outputId": "857b217b-71b0-4f00-ce55-7eae6092746c"
      },
      "source": [
        "clf = SVC(random_state=0)\n",
        "clf.fit(train_X, train_Y)\n",
        "print (\"Train\", clf.score(train_X, train_Y))\n",
        "print (\"Test\", clf.score(test_X, test_Y))\n",
        "ypred = clf.predict(test_X)\n",
        "print (\"TAR:\",TAR(ypred, test_Y,1))\n",
        "print (\"TRR:\",TRR(ypred, test_Y, 1))\n",
        "print(\"F1 Score:\", f1_score(test_Y, ypred))"
      ],
      "execution_count": null,
      "outputs": [
        {
          "output_type": "stream",
          "text": [
            "Train 0.855532896855211\n",
            "Test 0.8566523605150215\n",
            "TAR: 0.10298102981029811\n",
            "TRR: 0.998470168281489\n",
            "F1 Score: 0.1853658536585366\n"
          ],
          "name": "stdout"
        }
      ]
    },
    {
      "cell_type": "markdown",
      "metadata": {
        "id": "cqP4wSGm9M0t"
      },
      "source": [
        "### MLP"
      ]
    },
    {
      "cell_type": "code",
      "metadata": {
        "colab": {
          "base_uri": "https://localhost:8080/"
        },
        "id": "qyMxeh7DT8Bf",
        "outputId": "54cf1ede-ec95-412b-e269-88b25ab91f70"
      },
      "source": [
        "clf = MLPClassifier()\n",
        "clf.fit(train_X, train_Y)\n",
        "print (\"Train\", clf.score(train_X, train_Y))\n",
        "print (\"Test\", clf.score(test_X, test_Y))\n",
        "ypred = clf.predict(test_X)\n",
        "print (\"TAR:\",TAR(ypred, test_Y,1))\n",
        "print (\"TRR:\",TRR(ypred, test_Y, 1))\n",
        "print(\"F1 Score:\", f1_score(test_Y, ypred))"
      ],
      "execution_count": null,
      "outputs": [
        {
          "output_type": "stream",
          "text": [
            "Train 0.9828270902651068\n",
            "Test 0.9545064377682403\n",
            "TAR: 0.8319783197831978\n",
            "TRR: 0.9775624681285059\n",
            "F1 Score: 0.8527777777777777\n"
          ],
          "name": "stdout"
        }
      ]
    },
    {
      "cell_type": "markdown",
      "metadata": {
        "id": "o4a7hHHsT_kI"
      },
      "source": [
        "## Final Results"
      ]
    },
    {
      "cell_type": "code",
      "metadata": {
        "id": "VL38J4VhUi1r"
      },
      "source": [
        "models = [\"RF\", \"GNB\", \"KNN\", \"SVC\", \"MLP\"]"
      ],
      "execution_count": null,
      "outputs": []
    },
    {
      "cell_type": "code",
      "metadata": {
        "id": "VFmPsecnUule"
      },
      "source": [
        "results = {}"
      ],
      "execution_count": null,
      "outputs": []
    },
    {
      "cell_type": "code",
      "metadata": {
        "id": "EW5criZAU7Fh"
      },
      "source": [
        "results['single'] = {}\n",
        "results['single']['train'] = [0.9992779783393502, 0.6563176895306859, 0.8833935018050542, 0.7794223826714801, 0.903971119133574]\n",
        "results['single']['test'] = [0.9624819624819625, 0.645021645021645, 0.7503607503607503, 0.7489177489177489, 0.8643578643578643]\n",
        "results['single']['tar'] = [0.9899749373433584, 0.9624060150375939, 0.8170426065162907, 0.8370927318295739, 0.8421052631578947]\n",
        "results['single']['trr'] = [0.9251700680272109, 0.21428571428571427, 0.6598639455782312, 0.6292517006802721, 0.8945578231292517]\n",
        "results['single']['f1score'] = [0.9681372549019607, 0.757396449704142, 0.7903030303030303, 0.7933491686460807, 0.877284595300261]"
      ],
      "execution_count": null,
      "outputs": []
    },
    {
      "cell_type": "code",
      "metadata": {
        "id": "16Cm5Rl0Wq7g"
      },
      "source": [
        "results['multi'] = {}\n",
        "results['multi']['train'] = [1.0, 0.7382204572287216, 0.9281957711709777, 0.855532896855211, 0.9828270902651068]\n",
        "results['multi']['test'] = [0.9987124463519313, 0.7536480686695279, 0.869098712446352, 0.8566523605150215, 0.9545064377682403]\n",
        "results['multi']['tar'] = [0.991869918699187, 0.9322493224932249, 0.4823848238482385, 0.10298102981029811, 0.8319783197831978]\n",
        "results['multi']['trr'] = [1.0, 0.7200407955124937, 0.9418663946965834, 0.998470168281489, 0.9775624681285059]\n",
        "results['multi']['f1score'] = [0.9959183673469388, 0.5451664025356576, 0.5385779122541604, 0.1853658536585366, 0.8527777777777777]"
      ],
      "execution_count": null,
      "outputs": []
    },
    {
      "cell_type": "code",
      "metadata": {
        "id": "Pyru3oPTasXu"
      },
      "source": [
        "def autolabel(rects):\n",
        "    \"\"\"\n",
        "    Attach a text label above each bar displaying its height\n",
        "    \"\"\"\n",
        "    for rect in rects:\n",
        "        height = float(rect.get_height())\n",
        "        ax.text(rect.get_x() + rect.get_width()/2., 1.005*height,\n",
        "                str(height*100)[:5] + \"%\",\n",
        "                ha='center', va='bottom')"
      ],
      "execution_count": null,
      "outputs": []
    },
    {
      "cell_type": "markdown",
      "metadata": {
        "id": "AjqQiOBQUQS-"
      },
      "source": [
        "# **Sitting**"
      ]
    },
    {
      "cell_type": "markdown",
      "metadata": {
        "id": "zG8snZo0UQS-"
      },
      "source": [
        "## Classifier"
      ]
    },
    {
      "cell_type": "code",
      "metadata": {
        "id": "bjzcfwYXUQS_"
      },
      "source": [
        "a =[]\n",
        "for i in range(1, 50):\n",
        "  a.append(unpickling('saved_objects/' + users[i] + \"_features2.pkl\"))\n",
        "u = unpickling('saved_objects/' + users[0] + '_features2.pkl')"
      ],
      "execution_count": null,
      "outputs": []
    },
    {
      "cell_type": "code",
      "metadata": {
        "id": "0ldpkAiNUQS_"
      },
      "source": [
        "data = u[1]\n",
        "labels = [1]*len(data)"
      ],
      "execution_count": null,
      "outputs": []
    },
    {
      "cell_type": "code",
      "metadata": {
        "id": "PKKoC1YnUQTA"
      },
      "source": [
        "for i in a:\n",
        "  r = np.random.choice(len(i[0]), size = 30, replace=False)\n",
        "  data = np.concatenate((data, i[0][r, :]))\n",
        "  labels += [0]*len(r)"
      ],
      "execution_count": null,
      "outputs": []
    },
    {
      "cell_type": "code",
      "metadata": {
        "id": "YaZRfDTqUQTA"
      },
      "source": [
        "labels = np.array(labels)"
      ],
      "execution_count": null,
      "outputs": []
    },
    {
      "cell_type": "code",
      "metadata": {
        "id": "30tAFpgyUQTB"
      },
      "source": [
        "labels = labels.reshape(-1, 1)"
      ],
      "execution_count": null,
      "outputs": []
    },
    {
      "cell_type": "code",
      "metadata": {
        "id": "UIh-4_qvUQTB"
      },
      "source": [
        "train = np.concatenate((data, labels), axis = 1)"
      ],
      "execution_count": null,
      "outputs": []
    },
    {
      "cell_type": "code",
      "metadata": {
        "id": "eAGMZqUjUQTC"
      },
      "source": [
        "np.random.shuffle(train)"
      ],
      "execution_count": null,
      "outputs": []
    },
    {
      "cell_type": "code",
      "metadata": {
        "id": "BG25ow25UQTC"
      },
      "source": [
        "X_t = train[:,:-1]\n",
        "Y_t = train[:,-1]"
      ],
      "execution_count": null,
      "outputs": []
    },
    {
      "cell_type": "code",
      "metadata": {
        "id": "fqlTIFzJUQTC"
      },
      "source": [
        "train_X, test_X, train_Y, test_Y = train_test_split(X_t, Y_t, test_size = 0.2, random_state = 42 ,stratify = Y_t)"
      ],
      "execution_count": null,
      "outputs": []
    },
    {
      "cell_type": "markdown",
      "metadata": {
        "id": "qvJueQGD9c2j"
      },
      "source": [
        "# **Sitting**"
      ]
    },
    {
      "cell_type": "markdown",
      "metadata": {
        "id": "3LkwRt54ZnK6"
      },
      "source": [
        "### Single-Touch"
      ]
    },
    {
      "cell_type": "markdown",
      "metadata": {
        "id": "asaESB129fW7"
      },
      "source": [
        "### Random Forest"
      ]
    },
    {
      "cell_type": "code",
      "metadata": {
        "colab": {
          "base_uri": "https://localhost:8080/"
        },
        "id": "ESn9CNJBUQTE",
        "outputId": "224f53a7-f63c-4265-d806-c46e8d35fba8"
      },
      "source": [
        "clf = RandomForestClassifier(max_depth = 12, n_estimators=1000, criterion = 'entropy', random_state=100)\n",
        "clf.fit(train_X, train_Y)\n",
        "print (\"Train\", clf.score(train_X, train_Y))\n",
        "print (\"Test\", clf.score(test_X, test_Y))\n",
        "ypred = clf.predict(test_X)\n",
        "print (\"TAR:\",TAR(ypred, test_Y,1))\n",
        "print (\"TRR:\",TRR(ypred, test_Y, 1))\n",
        "print(\"F1 Score:\", f1_score(test_Y, ypred))"
      ],
      "execution_count": null,
      "outputs": [
        {
          "output_type": "stream",
          "text": [
            "Train 1.0\n",
            "Test 0.9954887218045113\n",
            "TAR: 1.0\n",
            "TRR: 0.9897959183673469\n",
            "F1 Score: 0.9959731543624161\n"
          ],
          "name": "stdout"
        }
      ]
    },
    {
      "cell_type": "markdown",
      "metadata": {
        "id": "fUcKhhtY9g7a"
      },
      "source": [
        "### Gaussian NB"
      ]
    },
    {
      "cell_type": "code",
      "metadata": {
        "colab": {
          "base_uri": "https://localhost:8080/"
        },
        "id": "vcMnvFMzUQTF",
        "outputId": "4a964ce3-fb00-49c6-88e7-04303d764ce4"
      },
      "source": [
        "clf = GaussianNB()\n",
        "clf.fit(train_X, train_Y)\n",
        "print (\"Train\", clf.score(train_X, train_Y))\n",
        "print (\"Test\", clf.score(test_X, test_Y))\n",
        "ypred = clf.predict(test_X)\n",
        "print (\"TAR:\",TAR(ypred, test_Y,1))\n",
        "print (\"TRR:\",TRR(ypred, test_Y, 1))\n",
        "print(\"F1 Score:\", f1_score(test_Y, ypred))"
      ],
      "execution_count": null,
      "outputs": [
        {
          "output_type": "stream",
          "text": [
            "Train 0.9273616861121565\n",
            "Test 0.9383458646616541\n",
            "TAR: 0.9757412398921833\n",
            "TRR: 0.891156462585034\n",
            "F1 Score: 0.9464052287581699\n"
          ],
          "name": "stdout"
        }
      ]
    },
    {
      "cell_type": "markdown",
      "metadata": {
        "id": "igkw0d5j9kPU"
      },
      "source": [
        "### KNN"
      ]
    },
    {
      "cell_type": "code",
      "metadata": {
        "colab": {
          "base_uri": "https://localhost:8080/"
        },
        "id": "VYh958dZUQTF",
        "outputId": "e1804bca-9ab1-4844-9b5b-347997076938"
      },
      "source": [
        "clf = KNeighborsClassifier(3, metric='cosine')\n",
        "clf.fit(train_X, train_Y)\n",
        "print (\"Train\", clf.score(train_X, train_Y))\n",
        "print (\"Test\", clf.score(test_X, test_Y))\n",
        "ypred = clf.predict(test_X)\n",
        "print (\"TAR:\",TAR(ypred, test_Y,1))\n",
        "print (\"TRR:\",TRR(ypred, test_Y, 1))\n",
        "print(\"F1 Score:\", f1_score(test_Y, ypred))"
      ],
      "execution_count": null,
      "outputs": [
        {
          "output_type": "stream",
          "text": [
            "Train 0.8934888972525404\n",
            "Test 0.8045112781954887\n",
            "TAR: 0.8733153638814016\n",
            "TRR: 0.717687074829932\n",
            "F1 Score: 0.8329048843187661\n"
          ],
          "name": "stdout"
        }
      ]
    },
    {
      "cell_type": "markdown",
      "metadata": {
        "id": "TrXyRzxj9lZQ"
      },
      "source": [
        "### SVC"
      ]
    },
    {
      "cell_type": "code",
      "metadata": {
        "colab": {
          "base_uri": "https://localhost:8080/"
        },
        "id": "174HyMuAUQTF",
        "outputId": "790a74c1-f38e-4378-ea5b-1157066b9d32"
      },
      "source": [
        "clf = SVC(random_state=0)\n",
        "clf.fit(train_X, train_Y)\n",
        "print (\"Train\", clf.score(train_X, train_Y))\n",
        "print (\"Test\", clf.score(test_X, test_Y))\n",
        "ypred = clf.predict(test_X)\n",
        "print (\"TAR:\",TAR(ypred, test_Y,1))\n",
        "print (\"TRR:\",TRR(ypred, test_Y, 1))\n",
        "print(\"F1 Score:\", f1_score(test_Y, ypred))"
      ],
      "execution_count": null,
      "outputs": [
        {
          "output_type": "stream",
          "text": [
            "Train 0.8046669175762138\n",
            "Test 0.793984962406015\n",
            "TAR: 0.8571428571428571\n",
            "TRR: 0.7142857142857143\n",
            "F1 Score: 0.8227684346701163\n"
          ],
          "name": "stdout"
        }
      ]
    },
    {
      "cell_type": "markdown",
      "metadata": {
        "id": "2YFvYSn49meP"
      },
      "source": [
        "### MLP"
      ]
    },
    {
      "cell_type": "code",
      "metadata": {
        "colab": {
          "base_uri": "https://localhost:8080/"
        },
        "id": "CaXj8BK8UQTG",
        "outputId": "c80de15e-1b9c-4b06-ece0-96b7b9fa8355"
      },
      "source": [
        "clf = MLPClassifier()\n",
        "clf.fit(train_X, train_Y)\n",
        "print (\"Train\", clf.score(train_X, train_Y))\n",
        "print (\"Test\", clf.score(test_X, test_Y))\n",
        "ypred = clf.predict(test_X)\n",
        "print (\"TAR:\",TAR(ypred, test_Y,1))\n",
        "print (\"TRR:\",TRR(ypred, test_Y, 1))\n",
        "print(\"F1 Score:\", f1_score(test_Y, ypred))"
      ],
      "execution_count": null,
      "outputs": [
        {
          "output_type": "stream",
          "text": [
            "Train 0.9567181031238239\n",
            "Test 0.9488721804511279\n",
            "TAR: 0.9703504043126685\n",
            "TRR: 0.9217687074829932\n",
            "F1 Score: 0.9549071618037135\n"
          ],
          "name": "stdout"
        }
      ]
    },
    {
      "cell_type": "markdown",
      "metadata": {
        "id": "h2m_pw7zYaU7"
      },
      "source": [
        "### Multi Touch"
      ]
    },
    {
      "cell_type": "code",
      "metadata": {
        "id": "Jo4uot2VUQTG"
      },
      "source": [
        "X = []\n",
        "Y = []\n",
        "look_back = 5\n",
        "for i in range(len(u[1])-look_back):\n",
        "  r = u[1][i]\n",
        "  for j in range(1, look_back):\n",
        "    r = np.concatenate((r, u[1][i+j]))\n",
        "  X.append(r)\n",
        "  Y.append(1)\n",
        "\n",
        "for k in a:\n",
        "  for i in range(min(len(k[1])-look_back, 200)):\n",
        "    r = k[1][i]\n",
        "    for j in range(1, look_back):\n",
        "      r = np.concatenate((r, k[1][i+j]))\n",
        "    X.append(r)\n",
        "    Y.append(0)\n",
        "X = np.array(X)\n",
        "Y = np.array(Y)\n",
        "train_X, test_X, train_Y, test_Y = train_test_split(X, Y, stratify=Y, test_size = 0.2)"
      ],
      "execution_count": null,
      "outputs": []
    },
    {
      "cell_type": "markdown",
      "metadata": {
        "id": "QTtJZR4C9n1d"
      },
      "source": [
        "### RF"
      ]
    },
    {
      "cell_type": "code",
      "metadata": {
        "colab": {
          "base_uri": "https://localhost:8080/"
        },
        "id": "HiDfx2v8UQTG",
        "outputId": "3a065752-788a-45ba-c2da-7547bc21ef06"
      },
      "source": [
        "clf = RandomForestClassifier(max_depth = 11, n_estimators=100, criterion = 'entropy', random_state=100)\n",
        "clf.fit(train_X, train_Y)\n",
        "print (\"Train\", clf.score(train_X, train_Y))\n",
        "print (\"Test\", clf.score(test_X, test_Y))\n",
        "ypred = clf.predict(test_X)\n",
        "print (\"TAR:\",TAR(ypred, test_Y,1))\n",
        "print (\"TRR:\",TRR(ypred, test_Y, 1))\n",
        "print(\"F1 Score:\", f1_score(test_Y, ypred))"
      ],
      "execution_count": null,
      "outputs": [
        {
          "output_type": "stream",
          "text": [
            "Train 1.0\n",
            "Test 0.9978540772532188\n",
            "TAR: 0.986449864498645\n",
            "TRR: 1.0\n",
            "F1 Score: 0.9931787175989086\n"
          ],
          "name": "stdout"
        }
      ]
    },
    {
      "cell_type": "markdown",
      "metadata": {
        "id": "NAbSgzoD9o1m"
      },
      "source": [
        "### GNB"
      ]
    },
    {
      "cell_type": "code",
      "metadata": {
        "colab": {
          "base_uri": "https://localhost:8080/"
        },
        "id": "1_YdXeCwUQTH",
        "outputId": "f64e549e-b812-4ee7-c9e5-77af09445757"
      },
      "source": [
        "clf = GaussianNB()\n",
        "clf.fit(train_X, train_Y)\n",
        "print (\"Train\", clf.score(train_X, train_Y))\n",
        "print (\"Test\", clf.score(test_X, test_Y))\n",
        "ypred = clf.predict(test_X)\n",
        "print (\"TAR:\",TAR(ypred, test_Y,1))\n",
        "print (\"TRR:\",TRR(ypred, test_Y, 1))\n",
        "print(\"F1 Score:\", f1_score(test_Y, ypred))"
      ],
      "execution_count": null,
      "outputs": [
        {
          "output_type": "stream",
          "text": [
            "Train 0.7261994204142964\n",
            "Test 0.7098712446351931\n",
            "TAR: 0.8915989159891599\n",
            "TRR: 0.6756756756756757\n",
            "F1 Score: 0.4932533733133434\n"
          ],
          "name": "stdout"
        }
      ]
    },
    {
      "cell_type": "markdown",
      "metadata": {
        "id": "Jtk7xkRw9qHL"
      },
      "source": [
        "### KNN"
      ]
    },
    {
      "cell_type": "code",
      "metadata": {
        "colab": {
          "base_uri": "https://localhost:8080/"
        },
        "id": "prIJZRDHUQTH",
        "outputId": "151fb90f-099f-4649-eec3-846e9f4cab16"
      },
      "source": [
        "clf = KNeighborsClassifier(3, metric='cosine')\n",
        "clf.fit(train_X, train_Y)\n",
        "print (\"Train\", clf.score(train_X, train_Y))\n",
        "print (\"Test\", clf.score(test_X, test_Y))\n",
        "ypred = clf.predict(test_X)\n",
        "print (\"TAR:\",TAR(ypred, test_Y,1))\n",
        "print (\"TRR:\",TRR(ypred, test_Y, 1))\n",
        "print(\"F1 Score:\", f1_score(test_Y, ypred))"
      ],
      "execution_count": null,
      "outputs": [
        {
          "output_type": "stream",
          "text": [
            "Train 0.927122464312547\n",
            "Test 0.871244635193133\n",
            "TAR: 0.5176151761517616\n",
            "TRR: 0.9377868434472209\n",
            "F1 Score: 0.560117302052786\n"
          ],
          "name": "stdout"
        }
      ]
    },
    {
      "cell_type": "markdown",
      "metadata": {
        "id": "XNuVujrV9rKg"
      },
      "source": [
        "### SVC"
      ]
    },
    {
      "cell_type": "code",
      "metadata": {
        "colab": {
          "base_uri": "https://localhost:8080/"
        },
        "id": "9UuRqFyxUQTK",
        "outputId": "755bae2b-7005-42e8-a991-27e227090fcd"
      },
      "source": [
        "clf = SVC(random_state=0)\n",
        "clf.fit(train_X, train_Y)\n",
        "print (\"Train\", clf.score(train_X, train_Y))\n",
        "print (\"Test\", clf.score(test_X, test_Y))\n",
        "ypred = clf.predict(test_X)\n",
        "print (\"TAR:\",TAR(ypred, test_Y,1))\n",
        "print (\"TRR:\",TRR(ypred, test_Y, 1))\n",
        "print(\"F1 Score:\", f1_score(test_Y, ypred))"
      ],
      "execution_count": null,
      "outputs": [
        {
          "output_type": "stream",
          "text": [
            "Train 0.8545669206826232\n",
            "Test 0.8523605150214593\n",
            "TAR: 0.07046070460704607\n",
            "TRR: 0.9994900560938297\n",
            "F1 Score: 0.1313131313131313\n"
          ],
          "name": "stdout"
        }
      ]
    },
    {
      "cell_type": "markdown",
      "metadata": {
        "id": "ggpvR50Z9sNB"
      },
      "source": [
        "### MLP"
      ]
    },
    {
      "cell_type": "code",
      "metadata": {
        "colab": {
          "base_uri": "https://localhost:8080/"
        },
        "id": "rMz7nU95UQTL",
        "outputId": "7e73f5d9-777e-4ccd-d03f-a38b4e3511ed"
      },
      "source": [
        "clf = MLPClassifier()\n",
        "clf.fit(train_X, train_Y)\n",
        "print (\"Train\", clf.score(train_X, train_Y))\n",
        "print (\"Test\", clf.score(test_X, test_Y))\n",
        "ypred = clf.predict(test_X)\n",
        "print (\"TAR:\",TAR(ypred, test_Y,1))\n",
        "print (\"TRR:\",TRR(ypred, test_Y, 1))\n",
        "print(\"F1 Score:\", f1_score(test_Y, ypred))"
      ],
      "execution_count": null,
      "outputs": [
        {
          "output_type": "stream",
          "text": [
            "Train 0.9874423097563594\n",
            "Test 0.9472103004291845\n",
            "TAR: 0.8184281842818428\n",
            "TRR: 0.971443141254462\n",
            "F1 Score: 0.8308115543328749\n"
          ],
          "name": "stdout"
        }
      ]
    },
    {
      "cell_type": "markdown",
      "metadata": {
        "id": "RbLJx7t_UQTL"
      },
      "source": [
        "## Final Results"
      ]
    },
    {
      "cell_type": "code",
      "metadata": {
        "id": "WAsGzpvCYIjG"
      },
      "source": [
        "results2 = {}"
      ],
      "execution_count": null,
      "outputs": []
    },
    {
      "cell_type": "code",
      "metadata": {
        "id": "o5-EYEm7YIjH"
      },
      "source": [
        "results2['single'] = {}\n",
        "results2['single']['train'] = [1.0, 0.9273616861121565, 0.893488897252540, 0.8046669175762138, 0.9567181031238239]\n",
        "results2['single']['test'] = [0.9954887218045113, 0.9383458646616541, 0.8045112781954887, 0.793984962406015, 0.9488721804511279]\n",
        "results2['single']['tar'] = [1.0, 0.9757412398921833, 0.8733153638814016, 0.8571428571428571, 0.9703504043126685]\n",
        "results2['single']['trr'] = [0.9897959183673469, 0.891156462585034, 0.717687074829932, 0.7142857142857143, 0.9217687074829932]\n",
        "results2['single']['f1score'] = [0.9959731543624161, 0.9464052287581699, 0.8329048843187661, 0.8227684346701163, 0.9549]"
      ],
      "execution_count": null,
      "outputs": []
    },
    {
      "cell_type": "code",
      "metadata": {
        "id": "cR5bUgRkYIjI"
      },
      "source": [
        "results2['multi'] = {}\n",
        "results2['multi']['train'] = [1.0, 0.7261994204142964, 0.927122464312547, 0.8545669206826232, 0.9874423097563594]\n",
        "results2['multi']['test'] = [0.9978540772532188, 0.7098712446351931, 0.871244635193133, 0.8523605150214593, 0.9472103004291845]\n",
        "results2['multi']['tar'] = [0.986449864498645, 0.8915989159891599, 0.5176151761517616, 0.07046070460704607, 0.8184281842818428]\n",
        "results2['multi']['trr'] = [1.0, 0.6756756756756757, 0.9377868434472209, 0.9994900560938297, 0.971443141254462]\n",
        "results2['multi']['f1score'] = [0.9931787175989086, 0.4932533733133434, 0.560117302052786, 0.1313131313131313, 0.8308115543328749]"
      ],
      "execution_count": null,
      "outputs": []
    },
    {
      "cell_type": "code",
      "metadata": {
        "id": "KB-HIh8DdclN"
      },
      "source": [
        "names = [\"Sitting-1-Swipe\", \"Sitting-5-Swipe\", \"Walking-1-Swipe\", \"Walking-5-Swipe\"]\n",
        "metric = 'f1score'\n",
        "axx = [results2['single'][metric], results2['multi'][metric], results['single'][metric], results['multi'][metric]]\n",
        "axx = np.array(axx)\n",
        "axx = np.transpose(axx)"
      ],
      "execution_count": null,
      "outputs": []
    },
    {
      "cell_type": "code",
      "metadata": {
        "id": "vGW5_v7efSUM"
      },
      "source": [
        "axx = list(axx)"
      ],
      "execution_count": null,
      "outputs": []
    },
    {
      "cell_type": "code",
      "metadata": {
        "colab": {
          "base_uri": "https://localhost:8080/",
          "height": 480
        },
        "id": "XXM508X3dHKA",
        "outputId": "0b535834-50ae-4532-d5a8-ce5fd06304c9"
      },
      "source": [
        "fig = plt.figure(figsize=(9,6))\n",
        "ax = fig.add_axes([0,0,1,1])\n",
        "width = 0.15\n",
        "ind = np.arange(4)\n",
        "r1 = ax.bar(ind, axx[0], width)\n",
        "r2 = ax.bar(ind + width, axx[1], width)\n",
        "r3 = ax.bar(ind + width*2, axx[2], width)\n",
        "r4 = ax.bar(ind + width*3, axx[3], width)\n",
        "r5 = ax.bar(ind + width*4, axx[4], width)\n",
        "\n",
        "ax.set_xticks(ind + width / 2 + 0.25)\n",
        "ax.set_xticklabels(names)\n",
        "autolabel(r1)\n",
        "ax.legend((r1,r2,r3,r4,r5), models)\n",
        "plt.ylabel(\"Accuracy\")\n",
        "fig.show()"
      ],
      "execution_count": null,
      "outputs": [
        {
          "output_type": "display_data",
          "data": {
            "image/png": "[encoded data removed]",
            "text/plain": [
              "<Figure size 648x432 with 1 Axes>"
            ]
          },
          "metadata": {
            "tags": [],
            "needs_background": "light"
          }
        }
      ]
    }
  ]
}